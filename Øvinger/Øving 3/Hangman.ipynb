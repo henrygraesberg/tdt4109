{
 "cells": [
  {
   "cell_type": "markdown",
   "metadata": {
    "deletable": false,
    "editable": false,
    "run_control": {
     "frozen": true
    }
   },
   "source": [
    "<nav class=\"navbar navbar-default\">\n",
    "  <div class=\"container-fluid\">\n",
    "    <div class=\"navbar-header\">\n",
    "      <a class=\"navbar-brand\" href=\"_Oving3.ipynb\">Øving 3</a>\n",
    "    </div>\n",
    "    <ul class=\"nav navbar-nav\">\n",
    "      <li ><a href=\"Intro%20til%20lokker.ipynb\">Intro til løkker</a></li>\n",
    "    <li ><a href=\"Mer%20om%20lokker.ipynb\">Mer om løkker</a></li>\n",
    "    <li><a href=\"Nostede%20lokker.ipynb\">Intro til nøstede løkker</a></li>\n",
    "    <li ><a href=\"Kodeforstaelse.ipynb\">Kodeforståelse</a></li>\n",
    "    <li ><a href=\"Gjett%20tallet.ipynb\">Gjett tallet</a></li>\n",
    "        <li ><a href=\"Tekstbasert%20spill%202.ipynb\">Tekstbasert spill 2</a></li>\n",
    "    <li ><a href=\"Geometrisk%20rekke.ipynb\">Geometrisk rekke</a></li>\n",
    "    <li ><a href=\"Fibonacci.ipynb\">Fibonacci</a></li>\n",
    "    <li><a href=\"Alternerende%20sum.ipynb\">Alternerende sum</a></li>\n",
    "    <li class=\"active\"><a href=\"Hangman.ipynb\">Hangman</a></li>\n",
    "    <li ><a href=\"Doble%20lokker.ipynb\">Doble løkker</a></li>\n",
    "    </ul>\n",
    "  </div>\n",
    "</nav>\n",
    "\n",
    "**Læringsmål:**\n",
    "\n",
    "* Betingelser\n",
    "* While-løkker\n",
    "\n",
    "**Starting Out with Python:**\n",
    "\n",
    "* Kap. 3.4 \n",
    "* Kap. 4.2\n",
    "\n",
    "Kapittel fire introduserer repetisjonsstrukturer. Dette er en mye brukt programmeringsteknikk som brukes når et program skal utføre den samme oppgaven mange ganger etter hverandre. I denne oppgaven bruker vi en enkel while-løkke for å lage et hangman-spill i Python. \n",
    "\n",
    "Lag et program som tar inn et ord (tekststreng) og antall liv (heltall) fra en bruker, og lar en annen (eller samme) bruker gjette på bokstaver i ordet. "
   ]
  },
  {
   "cell_type": "markdown",
   "metadata": {
    "deletable": false,
    "editable": false,
    "run_control": {
     "frozen": true
    }
   },
   "source": [
    "### a)\n",
    "Start med å hente inn data fra bruker. Lagre dette i to variabler `hemmelig_ord` og `antall_liv`.\n",
    "\n",
    "***Skriv koden din her.***"
   ]
  },
  {
   "cell_type": "code",
   "execution_count": 2,
   "metadata": {
    "ExecuteTime": {
     "end_time": "2019-07-03T06:20:10.962975Z",
     "start_time": "2019-07-03T06:20:10.957236Z"
    }
   },
   "outputs": [],
   "source": [
    "hemmelig_ord = input(\"Skriv inn et hemmelig ord: \")\n",
    "antall_liv = int(input(\"Hvor mange forsøk får spilleren? \"))"
   ]
  },
  {
   "cell_type": "markdown",
   "metadata": {
    "deletable": false,
    "editable": false,
    "run_control": {
     "frozen": true
    }
   },
   "source": [
    "### b)\n",
    "Under har vi laget en while-løkke som kjører evig. Din oppgave er å fylle inn manglende logikk inne i løkken. Ting som må gjøres er:\n",
    "\n",
    "* Hent inn en bokstav fra bruker\n",
    "* Sjekk om denne er i det hemmelige ordet \n",
    "  * Trekk fra et liv dersom brukeren tipper feil\n",
    "* Hvis brukeren ikke har flere liv skal løkken avsluttes (HINT: bruk \"break\" for å avslutte en løkke) \n",
    "\n",
    "PS: Husk å skrive ut resultatet til brukeren. **Du kan bruke variablene du laget i oppgave a uten å skrive dem på nytt** \n",
    "\n",
    "Eksempel på kjøring av kode:\n",
    "\n",
    "```\n",
    "Skriv inn det hemmelige ordet: hemmelig\n",
    "Hvor mange forsøk får brukeren? 2\n",
    "Gjett på én bokstav i ordet: f\n",
    "Bokstaven f er ikke i ordet.\n",
    "Du har  1 liv igjen, prøv på nytt.\n",
    "Gjett på én bokstav i ordet: h\n",
    "Stemmer, bokstaven er i ordet\n",
    "Gjett på én bokstav i ordet: e\n",
    "Stemmer, bokstaven er i ordet\n",
    "Gjett på én bokstav i ordet: r\n",
    "Bokstaven r er ikke i ordet.\n",
    "Du har ingen liv igjen.\n",
    "```"
   ]
  },
  {
   "cell_type": "code",
   "execution_count": 3,
   "metadata": {},
   "outputs": [
    {
     "name": "stdout",
     "output_type": "stream",
     "text": [
      "Riktig gjettet! Så langt har du gjettet: H******\n",
      "Feil gjettet :( Du har 4 liv igjen.\n",
      "H******\n",
      "Feil gjettet :( Du har 3 liv igjen.\n",
      "H******\n",
      "Riktig gjettet! Så langt har du gjettet: Ha***a*\n",
      "Riktig gjettet! Så langt har du gjettet: Han**an\n",
      "Feil gjettet :( Du har 2 liv igjen.\n",
      "Han**an\n",
      "Riktig gjettet! Så langt har du gjettet: Han*man\n",
      "Riktig gjettet! Så langt har du gjettet: Han*man\n",
      "Feil gjettet :( Du har 1 liv igjen.\n",
      "Han*man\n",
      "Riktig gjettet! Så langt har du gjettet: Hangman\n",
      "Spillet er over\n"
     ]
    }
   ],
   "source": [
    "def check_letter(word, letter):\n",
    "    positions = []\n",
    "\n",
    "    for i in range(len(word)):\n",
    "        if word[i].lower() == letter.lower():\n",
    "            positions.append(i)\n",
    "    \n",
    "    if len(positions) != 0:\n",
    "        return positions\n",
    "    return False\n",
    "\n",
    "hidden_word = []\n",
    "for i in range(len(hemmelig_ord)):\n",
    "    hidden_word.append(\"*\")\n",
    "\n",
    "hemmelig_ord = list(hemmelig_ord)\n",
    "\n",
    "while True:\n",
    "    if \"\".join(hidden_word) == \"\".join(hemmelig_ord) or antall_liv <= 0:\n",
    "        print(\"Spillet er over\")\n",
    "        break\n",
    "\n",
    "    choice = input(\"Gjett ordet\")\n",
    "\n",
    "    result = check_letter(hemmelig_ord, choice)\n",
    "\n",
    "    if result is not False:\n",
    "        for i in result:\n",
    "            hidden_word[i] = hemmelig_ord[i]\n",
    "\n",
    "        print(f'Riktig gjettet! Så langt har du gjettet: {\"\".join(hidden_word)}')\n",
    "    else:\n",
    "        antall_liv -= 1\n",
    "        print(f'Feil gjettet :( Du har {antall_liv} liv igjen.\\n{\"\".join(hidden_word)}')"
   ]
  },
  {
   "cell_type": "markdown",
   "metadata": {
    "deletable": false,
    "editable": false,
    "run_control": {
     "frozen": true
    }
   },
   "source": [
    "### d) FRIVILLIG vanskeligere oppgave\n",
    " Fyll inn logikk for å fullføre spillet. Ting som kan implementeres er:\n",
    "\n",
    "* Avslutt løkken hvis brukeren har gjettet alle bokstavene i løsningsordet.\n",
    "* For hvert gjett, print ut maskert løsningsord med stjerner for hver bokstav som fortsatt ikke er gjettet. `(Eks.: lø*ning*ord)`\n",
    "\n",
    "Du kan fortsette i samme kodefelt som oppgave b."
   ]
  }
 ],
 "metadata": {
  "kernelspec": {
   "display_name": "Python 3",
   "language": "python",
   "name": "python3"
  },
  "language_info": {
   "codemirror_mode": {
    "name": "ipython",
    "version": 3
   },
   "file_extension": ".py",
   "mimetype": "text/x-python",
   "name": "python",
   "nbconvert_exporter": "python",
   "pygments_lexer": "ipython3",
   "version": "3.12.5"
  },
  "toc": {
   "base_numbering": 1,
   "nav_menu": {},
   "number_sections": false,
   "sideBar": true,
   "skip_h1_title": false,
   "title_cell": "Table of Contents",
   "title_sidebar": "Contents",
   "toc_cell": false,
   "toc_position": {},
   "toc_section_display": true,
   "toc_window_display": false
  }
 },
 "nbformat": 4,
 "nbformat_minor": 2
}
